{
  "nbformat": 4,
  "nbformat_minor": 0,
  "metadata": {
    "colab": {
      "provenance": []
    },
    "kernelspec": {
      "name": "python3",
      "display_name": "Python 3"
    },
    "language_info": {
      "name": "python"
    }
  },
  "cells": [
    {
      "cell_type": "markdown",
      "source": [
        "OOPS ASSIGNMENT\n",
        "\n",
        "Q.1 What is Object-Oriented Programming (OOP)\n",
        "\n",
        "  Ans- Object-Oriented Programming (OOP) is a programming paradigm that structures code around objects, which encapsulate data (attributes) and methods (functions) that operate on that data. This approach promotes modularity, reusability, and easier maintenance of complex software.\n",
        "\n",
        "\n",
        "\n",
        "Q.2 What is a class in OOP\n",
        "\n",
        "  Ans- In object-oriented programming, a class is a blueprint or template for creating objects. It defines the structure and behavior (attributes and methods) that its objects will have. Think of it as a user-defined data type.\n",
        "\n",
        "\n",
        "\n",
        "Q.3 What is an object in OOP?\n",
        "\n",
        "  Ans- In Object-Oriented Programming (OOP), an object is a self-contained unit that combines data (attributes or properties) and the functions (methods) that operate on that data. It's essentially an instance of a class, representing a specific entity within a program.\n",
        "\n",
        "\n",
        "\n",
        "Q.4 What is the difference between abstraction and encapsulation\n",
        "\n",
        "  Ans- Abstraction focuses on what an object does, while encapsulation focuses on how it does it. Abstraction hides unnecessary details and complexity by exposing only essential information, while encapsulation bundles data and methods that operate on that data within a single unit, also known as a class, and controls access to that data.\n",
        "\n",
        "\n",
        "Q.5 What are dunder methods in Python\n",
        "\n",
        "  Ans- Dunder methods, also known as \"magic methods\" or \"special methods,\" are a set of predefined methods in Python that are distinguished by their double underscore prefix and suffix (e.g., __init__, __str__, __add__). They enable Python's built-in operations and features to interact with custom classes in a consistent and predictable manner.\n",
        "\n",
        "\n",
        "\n",
        "Q.6 Explain the concept of inheritance in OOP\n",
        "\n",
        "  Ans- Inheritance in object-oriented programming (OOP) is a mechanism where a new class (the subclass or child class) is created based on an existing class (the superclass or parent class), inheriting its attributes and methods. This promotes code reusability and allows for creating a hierarchy of classes with shared functionality.\n",
        "\n",
        "\n",
        "\n",
        "Q.7 What is polymorphism in OOP\n",
        "\n",
        "  Ans- Polymorphism in object-oriented programming (OOP) refers to the ability of an object to take on many forms. It allows you to interact with objects of different classes using a single, unified interface. Essentially, it enables a single function or method to operate on different data types or classes, providing flexibility and code reusability.\n",
        "Polymorphism means \"many forms\". In OOP, it means that a variable, function, or object can represent multiple types or classes.\n",
        "\n",
        "\n",
        "\n",
        "Q.8 How is encapsulation achieved in Python\n",
        "\n",
        "  Ans- Encapsulation in Python is achieved through conventions and mechanisms that promote the bundling of data and methods within a class, while controlling access to the internal state. Unlike some other languages, Python does not have strict access modifiers like public, private, or protected keywords\n",
        "\n",
        "\n",
        "\n",
        "Q.9 What is a constructor in Python\n",
        "\n",
        "  Ans- In Python, a constructor is a special method used to initialize new objects of a class. Unlike some other programming languages where constructors have the same name as the class, in Python, the constructor is defined by the special method __init__().\n",
        "\n",
        "\n",
        "\n",
        "Q.10 What are class and static methods in Python\n",
        "\n",
        "  Ans- In Python, class and static methods are distinct types of methods within a class, differing in their binding and access to class or instance state:\n",
        "Class Methods:\n",
        "Bound to the class itself, not an instance of the class.\n",
        "Static Methods:\n",
        "Not bound to either the class or an instance. They are essentially regular functions placed within a class's namespace for organizational purposes.\n",
        "\n",
        "\n",
        "\n",
        "Q.11 What is method overloading in Python\n",
        "\n",
        "  Ans- Method overloading, in the context of object-oriented programming, refers to the ability to define multiple methods within a single class that share the same name but differ in their parameters (either by number or type). This allows a method to perform different actions or handle different types of input depending on the arguments provided during its call.\n",
        "\n",
        "\n",
        "\n",
        "Q.12 What is method overriding in OOP\n",
        "\n",
        "  Ans- Method overriding in object-oriented programming is a feature that allows a subclass to provide a specific implementation of a method that is already defined in its parent class\n",
        "\n",
        "\n",
        "\n",
        "Q.13 What is a property decorator in Python\n",
        "\n",
        "   Ans- A property decorator in Python, specifically @property, is a built-in decorator that allows you to define methods within a class that can be accessed and manipulated as if they were attributes. It provides a way to encapsulate attribute access, enabling you to add logic to how an attribute's value is retrieved (getter), set (setter), or deleted (deleter), without changing the external interface of the class.\n",
        "\n",
        "\n",
        "\n",
        "Q.14 Why is polymorphism important in OOP\n",
        "\n",
        "  Ans- Polymorphism is crucial in object-oriented programming because it enables code reusability, flexibility, and modularity, making it easier to write, maintain, and extend complex software systems. It allows objects of different classes to be treated as objects of a common type, promoting cleaner, more adaptable code.\n",
        "\n",
        "\n",
        "\n",
        "Q.15 What is an abstract class in Python\n",
        "\n",
        "  Ans- An abstract class in Python is a class that serves as a blueprint or template for other classes. It cannot be instantiated directly, meaning you cannot create objects from an abstract class itself. Instead, it is designed to be inherited by subclasses, which are then responsible for providing implementations for any abstract methods defined within the abstract class.\n",
        "\n",
        "\n",
        "\n",
        "Q.16 What are the advantages of OOP\n",
        "\n",
        "  Ans- Object-Oriented Programming (OOP) offers several advantages, including improved code organization, reusability, flexibility, and maintainability. OOP promotes modularity through encapsulation, allowing for easier code management and modification\n",
        "\n",
        "\n",
        "\n",
        "Q.17 What is the difference between a class variable and an instance variable\n",
        "\n",
        "  Ans- Class variables and instance variables differ in their scope and how they are shared among class instances. Class variables are associated with the class itself and are shared by all instances of that class, while instance variables are specific to each individual object (instance) of the class\n",
        "\n",
        "\n",
        "\n",
        "Q.18 What is multiple inheritance in Python\n",
        "\n",
        "  Ans- Multiple inheritance in Python is a feature that allows a class to inherit attributes and methods from more than one parent class. This means a single child class can combine functionalities and characteristics from multiple base classes.\n",
        "\n",
        "\n",
        "\n",
        "Q.19 Explain the purpose of ‘’__str__’ and ‘__repr__’ ‘ methods in Python\n",
        "\n",
        "  Ans- In Python, __str__ and __repr__ are special methods (also known as \"dunder methods\" due to their double underscores) used to define string representations of objects.\n",
        "__str__:\n",
        "This method is intended to provide a human-readable, informal, and user-friendly string representation of an object. It's designed for display to end-users and for use in contexts like print() statements or when explicitly converting an object to a string using str()\n",
        "__repr__ :\n",
        "This method is intended to provide an unambiguous, formal, and developer-friendly string representation of an object. It's primarily used for debugging, logging, and in the interactive Python interpreter, aiming to represent the object in a way that could ideally be used to recreate it.\n",
        "\n",
        "\n",
        "\n",
        "Q.20 What is the significance of the ‘super()’ function in Python\n",
        "\n",
        "  Ans- The super() function in Python holds significant importance in the context of object-oriented programming, particularly concerning inheritance. Its primary significance lies in the following aspects:\n",
        "1) Accessing Parent Class Methods\n",
        "2) Facilitating Code Reusability and Maintainability\n",
        "3) Handling Method Resolution Order (MRO) in Multiple Inheritance\n",
        "4) Promoting Dynamic Inheritance\n",
        "\n",
        "\n",
        "\n",
        "Q.21 What is the significance of the __del__ method in Python\n",
        "\n",
        "  Ans- The __del__ method in Python, also known as a finalizer or destructor, holds significance in object-oriented programming for resource cleanup.\n",
        "Significance of __del__:\n",
        "1) Resource Management\n",
        "2) Preventing Resource Leaks\n",
        "3) Enhancing Robustness\n",
        "\n",
        "\n",
        "\n",
        "Q.22 What is the difference between @staticmethod and @classmethod in Python\n",
        "\n",
        "  Ans- The primary difference between @staticmethod and @classmethod in Python lies in how they interact with the class and its instances:\n",
        "@classmethod:\n",
        "Takes the class itself (cls) as its first argument.\n",
        "Can access and modify class-level attributes and call other class methods.\n",
        "Often used for \"factory methods\" that create instances of the class with specific configurations, or for operations that depend on the class's state.\n",
        "@staticmethod:\n",
        "Takes no implicit first argument (neither self nor cls).\n",
        "Cannot access or modify class or instance attributes directly.\n",
        "Behaves like a regular function placed within the class's namespace for organizational purposes.\n",
        "Typically used for utility functions that are logically related to the class but do not require access to the class's or an instance's state.\n",
        "\n",
        "\n",
        "\n",
        "Q.23 How does polymorphism work in Python with inheritance\n",
        "\n",
        "  Ans-Polymorphism in Python, when combined with inheritance, primarily manifests through method overriding. This allows objects of different classes, related through an inheritance hierarchy, to respond to the same method call in a way specific to their own class.\n",
        "Here's how it works:\n",
        "1) Inheritance\n",
        "2) Method Overriding\n",
        "3) Polymorphic Behavior\n",
        "\n",
        "\n",
        "\n",
        "Q.24 What is method chaining in Python OOP\n",
        "\n",
        "  Ans- Method chaining in Python Object-Oriented Programming (OOP) is a technique where multiple methods are called sequentially on the same object in a single line of code. This is achieved by having each method return the object itself (or a modified version of it), enabling the subsequent method call to operate on that returned object.\n",
        "\n",
        "\n",
        "\n",
        "Q.25 What is the purpose of the __call__ method in Python?\n",
        "\n",
        "  Ans- The purpose of the __call__ method in Python is to make instances of a class callable, meaning they can be invoked like functions.\n",
        "When a class defines a __call__ method, an object created from that class can be \"called\" directly using parentheses, similar to how a function is called. For example, if obj is an instance of a class that defines __call__, then obj() or obj(arg1, arg2) will execute the code within the __call__ method of that object.\n"
      ],
      "metadata": {
        "id": "BhYosoylMvC9"
      }
    },
    {
      "cell_type": "code",
      "source": [
        "#Q.1 Create a parent class Animal with a method speak() that prints a generic message. Create a child class Dog that overrides the speak() method to print \"Bark!\".\n",
        "class Animal:\n",
        "  def speak(self):\n",
        "    print(\"The animal speaks\")\n",
        "class Dog(Animal):\n",
        "  def speak(self):\n",
        "    print(\"Bark!\")\n",
        "animal = Animal()\n",
        "animal.speak()\n",
        "dog = Dog()\n",
        "dog.speak()\n"
      ],
      "metadata": {
        "colab": {
          "base_uri": "https://localhost:8080/"
        },
        "id": "JqYaQIHMOsvR",
        "outputId": "1a26f891-f00a-495a-9723-dea413f5469b"
      },
      "execution_count": 2,
      "outputs": [
        {
          "output_type": "stream",
          "name": "stdout",
          "text": [
            "The animal speaks\n",
            "Bark!\n"
          ]
        }
      ]
    },
    {
      "cell_type": "code",
      "source": [
        "#Q.2 . Write a program to create an abstract class Shape with a method area(). Derive classes Circle and Rectangle from it and implement the area() method in both.\n",
        "from abc import ABC, abstractmethod\n",
        "import math\n",
        "class Shape(ABC):\n",
        "  @abstractmethod\n",
        "  def area(self):\n",
        "    pass\n",
        "class Circle(Shape):\n",
        "  def __init__(self, radius):\n",
        "    self.radius = radius\n",
        "  def area(self):\n",
        "    return math.pi * self.radius ** 2\n",
        "class Rectangle(Shape):\n",
        "  def __init__(self, length, width):\n",
        "    self.length = length\n",
        "    self.width = width\n",
        "  def area(self):\n",
        "    return self.length * self.width\n",
        "circle = Circle(5)\n",
        "rectangle = Rectangle(10, 12)\n",
        "print(f\"Circle area:{circle.area()}\")\n",
        "print(f\"Rectangle area:{rectangle.area()}\")"
      ],
      "metadata": {
        "colab": {
          "base_uri": "https://localhost:8080/"
        },
        "id": "44r2rTS3SHDT",
        "outputId": "5f709fb2-ec24-48cd-f4aa-571a9f542c24"
      },
      "execution_count": 3,
      "outputs": [
        {
          "output_type": "stream",
          "name": "stdout",
          "text": [
            "Circle area:78.53981633974483\n",
            "Rectangle area:120\n"
          ]
        }
      ]
    },
    {
      "cell_type": "code",
      "source": [
        "#Q.3 Implement a multi-level inheritance scenario where a class Vehicle has an attribute type. Derive a class Car and further derive a class ElectricCar that adds a battery attribute.\n",
        "class  Vehical:\n",
        "  def __init__(self, type):\n",
        "    self.type = type\n",
        "class Car(Vehical):\n",
        "  def __init__(self, type , model):\n",
        "    self.type = type\n",
        "    self.model = model\n",
        "class ElectricCar(Car):\n",
        "  def __init__(self, type, model, battery):\n",
        "    self.type = type\n",
        "    self.model = model\n",
        "    self.battery = battery\n",
        "vehical = Vehical(\"Car\")\n",
        "car = Car(\"Car\", \"sedan\")\n",
        "electriccar = ElectricCar(\"Electric Car\", \"Tesla Model S\", \"100 kWh\")\n",
        "print(f\"Vehical Type:{vehical.type}\")\n",
        "print(f\"Car Model:{car.type}\")\n",
        "print(f\"Electric Car Model:{electriccar.type}, Battery:{electriccar.battery}\")"
      ],
      "metadata": {
        "colab": {
          "base_uri": "https://localhost:8080/"
        },
        "id": "COAsHpCVUyk1",
        "outputId": "bc9f7750-a9f4-412f-d0dd-02cf7edbcf20"
      },
      "execution_count": 5,
      "outputs": [
        {
          "output_type": "stream",
          "name": "stdout",
          "text": [
            "Vehical Type:Car\n",
            "Car Model:Car\n",
            "Electric Car Model:Electric Car, Battery:100 kWh\n"
          ]
        }
      ]
    },
    {
      "cell_type": "code",
      "source": [
        "#Q.4 Demonstrate polymorphism by creating a base class Bird with a method fly(). Create two derived classes Sparrow and Penguin that override the fly() method.\n",
        "class Bird:\n",
        "  def fly(self):\n",
        "    print(\"Bird is flying\")\n",
        "class Sparrow(Bird):\n",
        "  def fly(self):\n",
        "    print(\"Sparrow is flying\")\n",
        "class Penguin(Bird):\n",
        "  def fly(self):\n",
        "    print(\"Penguin is not flying\")\n",
        "bird = Bird()\n",
        "sparrow = Sparrow()\n",
        "penguin = Penguin()\n",
        "bird.fly()\n",
        "sparrow.fly()\n",
        "penguin.fly()"
      ],
      "metadata": {
        "colab": {
          "base_uri": "https://localhost:8080/"
        },
        "id": "z_TkTA5_X0GV",
        "outputId": "36d2a023-77fe-4968-c645-7c5bd36bc640"
      },
      "execution_count": 8,
      "outputs": [
        {
          "output_type": "stream",
          "name": "stdout",
          "text": [
            "Bird is flying\n",
            "Sparrow is flying\n",
            "Penguin is not flying\n"
          ]
        }
      ]
    },
    {
      "cell_type": "code",
      "source": [
        "#Q.5 Write a program to demonstrate encapsulation by creating a class BankAccount with private attributes balance and methods to deposit, withdraw, and check balance.\n",
        "class BankAccount:\n",
        "  def __init__(self, balance = 0):\n",
        "    self.__balance = balance\n",
        "  def deposit(self, amount):\n",
        "    if amount > 0:\n",
        "      self.__balance += amount\n",
        "      print(f\"deposited ${amount}. New balance: ${self.__balance}\")\n",
        "  def withdraw(self, amount):\n",
        "    if amount > 0 and amount <= self.__balance:\n",
        "      self.__balance -= amount\n",
        "      print(f\"withdraw ${amount}. New balance: ${self.__balance}\")\n",
        "    else:\n",
        "        print(\"invalid withdrawal amount or insuffuicient balance\")\n",
        "  def get_balance(self):\n",
        "    return self.__balance\n",
        "\n",
        "  def display_balance(self):\n",
        "    print(f\"current balance: ${self.__balance}\")\n",
        "account = BankAccount(1000)\n",
        "account.deposit(500)\n",
        "account.withdraw(200)\n",
        "account.display_balance()\n",
        "print(f\"current balance: ${account.get_balance()}\")"
      ],
      "metadata": {
        "colab": {
          "base_uri": "https://localhost:8080/"
        },
        "id": "loBRbmW7Ys_E",
        "outputId": "b47fda6e-7d9f-40b2-f764-2a0f4a56f973"
      },
      "execution_count": 13,
      "outputs": [
        {
          "output_type": "stream",
          "name": "stdout",
          "text": [
            "deposited $500. New balance: $1500\n",
            "withdraw $200. New balance: $1300\n",
            "current balance: $1300\n",
            "current balance: $1300\n"
          ]
        }
      ]
    },
    {
      "cell_type": "code",
      "source": [
        "#6 Demonstrate runtime polymorphism using a method play() in a base class Instrument. Derive classes Guitar and Piano that implement their own version of play().\n",
        "class Instrument:\n",
        "    def play(self):\n",
        "        print(\"Instrument is playing\")\n",
        "\n",
        "class Guitar(Instrument):\n",
        "    def play(self):\n",
        "        print(\"Guitar is playing\")\n",
        "\n",
        "class Piano(Instrument):\n",
        "    def play(self):\n",
        "        print(\"Piano is playing\")\n",
        "instrument1 = Instrument()\n",
        "instrument2 = Guitar()\n",
        "instrument3 = Piano()\n",
        "instrument1.play()\n",
        "instrument2.play()\n",
        "instrument3.play()"
      ],
      "metadata": {
        "colab": {
          "base_uri": "https://localhost:8080/"
        },
        "id": "uBZZR-hEcaYo",
        "outputId": "6029229c-407b-4297-f21b-22037140197e"
      },
      "execution_count": 15,
      "outputs": [
        {
          "output_type": "stream",
          "name": "stdout",
          "text": [
            "Instrument is playing\n",
            "Guitar is playing\n",
            "Piano is playing\n"
          ]
        }
      ]
    },
    {
      "cell_type": "code",
      "source": [
        "#Q.7 Create a class MathOperations with a class method add_numbers() to add two numbers and a static method subtract_numbers() to subtract two numbers.\n",
        "class MathOperations:\n",
        "    @classmethod\n",
        "    def add_numbers(cls, a, b):\n",
        "        return a + b\n",
        "\n",
        "    @staticmethod\n",
        "    def subtract_numbers(a, b):\n",
        "        return a - b\n",
        "result1 = MathOperations.add_numbers(5, 3)\n",
        "result2 = MathOperations.subtract_numbers(10, 4)\n",
        "print(f\"Addition result: {result1}\")\n",
        "print(f\"Subtraction result: {result2}\")"
      ],
      "metadata": {
        "colab": {
          "base_uri": "https://localhost:8080/"
        },
        "id": "XEJUtWeAeQ0p",
        "outputId": "cb544b99-e3f2-4de6-fb90-c289c89cf534"
      },
      "execution_count": 16,
      "outputs": [
        {
          "output_type": "stream",
          "name": "stdout",
          "text": [
            "Addition result: 8\n",
            "Subtraction result: 6\n"
          ]
        }
      ]
    },
    {
      "cell_type": "code",
      "source": [
        "#Q.8 Implement a class Person with a class method to count the total number of persons created.\n",
        "\n",
        "class Person:\n",
        "    count = 0\n",
        "    def __init__(self):\n",
        "        Person.count += 1\n",
        "    @classmethod\n",
        "    def get_count(cls):\n",
        "        return cls.count\n",
        "person1 = Person()\n",
        "person2 = Person()\n",
        "person3 = Person()\n",
        "total_persons = Person.get_count()\n",
        "print(f\"Total persons created: {total_persons}\")"
      ],
      "metadata": {
        "colab": {
          "base_uri": "https://localhost:8080/"
        },
        "id": "X4oL0gAffEmY",
        "outputId": "5da144c3-dd5e-4b44-9458-e412b3037e0e"
      },
      "execution_count": 17,
      "outputs": [
        {
          "output_type": "stream",
          "name": "stdout",
          "text": [
            "Total persons created: 3\n"
          ]
        }
      ]
    },
    {
      "cell_type": "code",
      "source": [
        "#Q.9 Write a class Fraction with attributes numerator and denominator. Override the str method to display the fraction as \"numerator/denominator\".\n",
        "class Fraction:\n",
        "    def __init__(self, numerator, denominator):\n",
        "        self.numerator = numerator\n",
        "        self.denominator = denominator\n",
        "\n",
        "    def __str__(self):\n",
        "        return f\"{self.numerator}/{self.denominator}\"\n",
        "fraction1 = Fraction(3, 4)\n",
        "fraction2 = Fraction(5, 6)\n",
        "print(f\"Fraction 1: {fraction1}\")\n",
        "print(f\"Fraction 2: {fraction2}\")"
      ],
      "metadata": {
        "colab": {
          "base_uri": "https://localhost:8080/"
        },
        "id": "pCFSKZxzfXuU",
        "outputId": "08d8794f-be77-4b33-8e7e-66109e4785b0"
      },
      "execution_count": 19,
      "outputs": [
        {
          "output_type": "stream",
          "name": "stdout",
          "text": [
            "Fraction 1: 3/4\n",
            "Fraction 2: 5/6\n"
          ]
        }
      ]
    },
    {
      "cell_type": "code",
      "source": [
        "#Q.10 Demonstrate operator overloading by creating a class Vector and overriding the add method to add two vectors.\n",
        "class Vector:\n",
        "    def __init__(self, x, y):\n",
        "        self.x = x\n",
        "        self.y = y\n",
        "    def __add__(self, other):\n",
        "        new_x = self.x + other.x\n",
        "        new_y = self.y + other.y\n",
        "        return Vector(new_x, new_y)\n",
        "vector1 = Vector(2, 3)\n",
        "vector2 = Vector(4, 5)\n",
        "result = vector1 + vector2\n",
        "print(f\"Vector 1: ({vector1.x}, {vector1.y})\")\n",
        "print(f\"Vector 2: ({vector2.x}, {vector2.y})\")\n",
        "print(f\"Result of addition: ({result.x}, {result.y})\")"
      ],
      "metadata": {
        "colab": {
          "base_uri": "https://localhost:8080/"
        },
        "id": "WZct5cwtgGeV",
        "outputId": "8de6066a-4088-4926-e49d-cd68c628bd87"
      },
      "execution_count": 23,
      "outputs": [
        {
          "output_type": "stream",
          "name": "stdout",
          "text": [
            "Vector 1: (2, 3)\n",
            "Vector 2: (4, 5)\n",
            "Result of addition: (6, 8)\n"
          ]
        }
      ]
    },
    {
      "cell_type": "code",
      "source": [
        "from typing_extensions import AsyncGenerator\n",
        "#Q.11 Create a class Person with attributes name and age. Add a method greet() that prints \"Hello, my name is {name} and I am {age} years old.\"\n",
        "class Person:\n",
        "  def __init__(self, name , age):\n",
        "    self.name = name\n",
        "    self.age = age\n",
        "  def greet(self):\n",
        "    print(f\"Hello, my name is {self.name} and I am {self.age} years old.\")\n",
        "person = Person(\"Alice\", 25)\n",
        "person.greet()"
      ],
      "metadata": {
        "colab": {
          "base_uri": "https://localhost:8080/"
        },
        "id": "McbOznE2hD2h",
        "outputId": "b781a90e-6b53-4761-c79c-bc8c54274860"
      },
      "execution_count": 25,
      "outputs": [
        {
          "output_type": "stream",
          "name": "stdout",
          "text": [
            "Hello, my name is Alice and I am 25 years old.\n"
          ]
        }
      ]
    },
    {
      "cell_type": "code",
      "source": [
        "#Q.12 Implement a class Student with attributes name and grades. Create a method average_grade() to compute the average of the grades.\n",
        "class Student:\n",
        "  def __init__(self, name, grades):\n",
        "    self.name = name\n",
        "    self.grades = grades\n",
        "  def average_grade(self):\n",
        "    if not self.grades:\n",
        "      return 0\n",
        "    total = sum(self.grades)\n",
        "    return total / len(self.grades)\n",
        "student1 = Student(\"Alice\", [85, 90, 78, 92])\n",
        "student2 = Student(\"Bob\", [76, 88, 95, 89])\n",
        "print(f\"{student1.name}'s average grade: {student1.average_grade()}\")\n",
        "print(f\"{student2.name}'s average grade: {student2.average_grade()}\")\n",
        "\n",
        ""
      ],
      "metadata": {
        "colab": {
          "base_uri": "https://localhost:8080/"
        },
        "id": "CcDUZh0uh7Fv",
        "outputId": "4176f3ca-f6ec-43a4-b7f5-a0c0bb1f6f6c"
      },
      "execution_count": 29,
      "outputs": [
        {
          "output_type": "stream",
          "name": "stdout",
          "text": [
            "Alice's average grade: 86.25\n",
            "Bob's average grade: 87.0\n"
          ]
        }
      ]
    },
    {
      "cell_type": "code",
      "source": [
        "#Q.13 Create a class Rectangle with methods set_dimensions() to set the dimensions and area() to calculate the area.\n",
        "class Rectangle:\n",
        "  def __init__(self, length, width):\n",
        "    self.length = length\n",
        "    self.width = width\n",
        "  def set_dimensions(self, length, width):\n",
        "    self.length = length\n",
        "    self.width = width\n",
        "  def area(self):\n",
        "    return self.length * self.width\n",
        "rectangle = Rectangle(5, 10)\n",
        "print(f\"Rectangle area: {rectangle.area()}\")"
      ],
      "metadata": {
        "colab": {
          "base_uri": "https://localhost:8080/"
        },
        "id": "Tr6eWALejk8B",
        "outputId": "38650b24-4c58-4b38-f4c6-4515f611adf5"
      },
      "execution_count": 31,
      "outputs": [
        {
          "output_type": "stream",
          "name": "stdout",
          "text": [
            "Rectangle area: 50\n"
          ]
        }
      ]
    },
    {
      "cell_type": "code",
      "source": [
        "#Q.14 Create a class Employee with a method calculate_salary() that computes the salary based on hours worked and hourly rate. Create a derived class Manager that adds a bonus to the salary.\n",
        "class Employee:\n",
        "  def __init__(self, name, hourly_rate):\n",
        "    self.name = name\n",
        "    self.hourly_rate = hourly_rate\n",
        "  def calculate_salary(self, hours_worked):\n",
        "    return hours_worked * self.hourly_rate\n",
        "employee1 = Employee(\"Alice\", 15)\n",
        "salary1 = employee1.calculate_salary(40)\n",
        "print(f\"{employee1.name}'s salary: ${salary1}\")\n",
        "class Manager(Employee):\n",
        "  def __init__(self, name, hourly_rate, bonus):\n",
        "    super().__init__(name, hourly_rate)\n",
        "    self.bonus = bonus\n",
        "  def calculate_salary(self, hours_worked):\n",
        "    base_salary = super().calculate_salary(hours_worked)\n",
        "    return base_salary + self.bonus\n",
        "manager1 = Manager(\"Bob\", 20, 1000)\n",
        "salary2 = manager1.calculate_salary(40)\n",
        "print(f\"{manager1.name}'s salary: ${salary2}\")"
      ],
      "metadata": {
        "colab": {
          "base_uri": "https://localhost:8080/"
        },
        "id": "kcjVZ4bvlI4f",
        "outputId": "f8cf14d8-6667-45f2-9a8b-02f294c41a6d"
      },
      "execution_count": 35,
      "outputs": [
        {
          "output_type": "stream",
          "name": "stdout",
          "text": [
            "Alice's salary: $600\n",
            "Bob's salary: $1800\n"
          ]
        }
      ]
    },
    {
      "cell_type": "code",
      "source": [
        "#Q.15 Create a class Product with attributes name, price, and quantity. Implement a method total_price() that calculates the total price of the product.\n",
        "class Product:\n",
        "  def __init__(self, name, price, quantity):\n",
        "    self.name = name\n",
        "    self.price = price\n",
        "    self.quantity = quantity\n",
        "  def total_price(self):\n",
        "    return self.price * self.quantity\n",
        "product1 = Product(\"Laptop\", 1000, 2)\n",
        "total_cost = product1.total_price()\n",
        "print(f\"Total cost of {product1.quantity} {product1.name}(s): ${total_cost}\")\n"
      ],
      "metadata": {
        "colab": {
          "base_uri": "https://localhost:8080/"
        },
        "id": "v8LpaO_Pmdx3",
        "outputId": "d5ad36bc-9447-4c1b-a9e5-e680cb18d01d"
      },
      "execution_count": 36,
      "outputs": [
        {
          "output_type": "stream",
          "name": "stdout",
          "text": [
            "Total cost of 2 Laptop(s): $2000\n"
          ]
        }
      ]
    },
    {
      "cell_type": "code",
      "source": [
        "#Q.16 Create a class Animal with an abstract method sound(). Create two derived classes Cow and Sheep that implement the sound() method.\n",
        "class Animal:\n",
        "    def sound(self):\n",
        "        pass\n",
        "\n",
        "class Cow(Animal):\n",
        "    def sound(self):\n",
        "        return \"Moo\"\n",
        "\n",
        "class Sheep(Animal):\n",
        "    def sound(self):\n",
        "        return \"Baaa\"\n",
        "\n",
        "cow = Cow()\n",
        "sheep = Sheep()\n",
        "print(f\"Cow says: {cow.sound()}\")\n",
        "print(f\"Sheep says: {sheep.sound()}\")"
      ],
      "metadata": {
        "colab": {
          "base_uri": "https://localhost:8080/"
        },
        "id": "wJN2qKwMm8n8",
        "outputId": "70f10b2f-8b68-452f-8da0-041431784684"
      },
      "execution_count": 37,
      "outputs": [
        {
          "output_type": "stream",
          "name": "stdout",
          "text": [
            "Cow says: Moo\n",
            "Sheep says: Baaa\n"
          ]
        }
      ]
    },
    {
      "cell_type": "code",
      "source": [
        "#Q.17 Create a class Book with attributes title, author, and year_published. Add a method get_book_info() that returns a formatted string with the book's details.\n",
        "class Book:\n",
        "  def __init__(self, title, author, year_published):\n",
        "    self.title = title\n",
        "    self.author = author\n",
        "    self.year_published = year_published\n",
        "\n",
        "  def get_book_info(self):\n",
        "    return f\"Title: {self.title}\\nAuthor: {self.author}\\nYear Published: {self.year_published}\"\n",
        "book = Book(\"The Great Gatsby\", \"F. Scott Fitzgerald\", 1925)\n",
        "print(book.get_book_info())\n"
      ],
      "metadata": {
        "colab": {
          "base_uri": "https://localhost:8080/"
        },
        "id": "FLo04rbBnSFU",
        "outputId": "ac980c13-7fcd-42fb-8ad3-b6cf44662282"
      },
      "execution_count": 39,
      "outputs": [
        {
          "output_type": "stream",
          "name": "stdout",
          "text": [
            "Title: The Great Gatsby\n",
            "Author: F. Scott Fitzgerald\n",
            "Year Published: 1925\n"
          ]
        }
      ]
    },
    {
      "cell_type": "code",
      "source": [
        "#Q.18 Create a class House with attributes address and price. Create a derived class Mansion that adds an attribute number_of_rooms.\n",
        "class House:\n",
        "    def __init__(self, address, price):\n",
        "        self.address = address\n",
        "        self.price = price\n",
        "    def get_house_info(self):\n",
        "        return f\"Address: {self.address}\\nPrice: ${self.price}\"\n",
        "\n",
        "class Mansion(House):\n",
        "    def __init__(self, address, price, number_of_rooms):\n",
        "        super().__init__(address, price)\n",
        "        self.number_of_rooms = number_of_rooms\n",
        "\n",
        "    def get_mansion_info(self):\n",
        "        return f\"{super().get_house_info()}\\nNumber of Rooms: {self.number_of_rooms}\"\n",
        "mansion = Mansion(\"123 Main St\", 250000, 8)\n",
        "print(mansion.get_mansion_info())"
      ],
      "metadata": {
        "colab": {
          "base_uri": "https://localhost:8080/"
        },
        "id": "pUEkjvN5nuoM",
        "outputId": "90499491-c6a0-42a6-b1fc-d12575c1dac0"
      },
      "execution_count": 42,
      "outputs": [
        {
          "output_type": "stream",
          "name": "stdout",
          "text": [
            "Address: 123 Main St\n",
            "Price: $250000\n",
            "Number of Rooms: 8\n"
          ]
        }
      ]
    }
  ]
}